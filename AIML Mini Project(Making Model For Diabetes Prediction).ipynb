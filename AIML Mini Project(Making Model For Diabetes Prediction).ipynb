{
 "cells": [
  {
   "cell_type": "markdown",
   "id": "235b0b62-98ca-47a7-9cb9-aebc9834519a",
   "metadata": {
    "editable": true,
    "slideshow": {
     "slide_type": ""
    },
    "tags": []
   },
   "source": [
    "# Diabetes Prediction Using Machine Learning \n",
    "## Dataset: https://www.kaggle.com/datasets/uciml/pima-indians-diabetes-database"
   ]
  },
  {
   "cell_type": "markdown",
   "id": "757756fc-d603-4aa2-865e-9f95dbbeb98d",
   "metadata": {},
   "source": [
    "## Import All Required Libraries"
   ]
  },
  {
   "cell_type": "code",
   "execution_count": 40,
   "id": "06540de5-d94f-4512-8dc6-48540cb07841",
   "metadata": {},
   "outputs": [],
   "source": [
    "import pandas as pd\n",
    "import numpy as np\n",
    "import seaborn as sns\n",
    "import matplotlib.pyplot as plt\n",
    "from sklearn.impute import SimpleImputer\n",
    "from scipy.stats.mstats import winsorize\n",
    "import joblib\n",
    "from sklearn.preprocessing import StandardScaler\n",
    "from sklearn.svm import SVC\n",
    "from sklearn.tree import DecisionTreeClassifier\n",
    "from sklearn.ensemble import RandomForestClassifier\n",
    "from sklearn.ensemble import GradientBoostingClassifier,HistGradientBoostingClassifier\n",
    "from sklearn.linear_model import SGDClassifier\n",
    "from sklearn.pipeline import Pipeline\n",
    "from sklearn.model_selection import train_test_split,cross_val_score,KFold\n",
    "import warnings\n",
    "from sklearn.exceptions import UndefinedMetricWarning\n",
    "from sklearn.metrics import accuracy_score, precision_score, recall_score\n",
    "from sklearn.metrics import f1_score, confusion_matrix,classification_report\n",
    "warnings.filterwarnings(\"ignore\")\n",
    "from sklearn.ensemble import VotingClassifier\n",
    "%matplotlib inline\n",
    "sns.set_style('whitegrid')"
   ]
  },
  {
   "cell_type": "markdown",
   "id": "f51fb227-99c2-4421-864b-c0bbd5d85ba8",
   "metadata": {},
   "source": [
    "## Loading Dataset & Doing EDA"
   ]
  },
  {
   "cell_type": "code",
   "execution_count": 2,
   "id": "fa33a598-566c-4134-a85e-373fff723059",
   "metadata": {},
   "outputs": [],
   "source": [
    "df=pd.read_csv(\"diabetes.csv\")"
   ]
  },
  {
   "cell_type": "code",
   "execution_count": 3,
   "id": "afd128ac-8bfe-4948-87ba-e964c42979e6",
   "metadata": {},
   "outputs": [
    {
     "data": {
      "text/html": [
       "<div>\n",
       "<style scoped>\n",
       "    .dataframe tbody tr th:only-of-type {\n",
       "        vertical-align: middle;\n",
       "    }\n",
       "\n",
       "    .dataframe tbody tr th {\n",
       "        vertical-align: top;\n",
       "    }\n",
       "\n",
       "    .dataframe thead th {\n",
       "        text-align: right;\n",
       "    }\n",
       "</style>\n",
       "<table border=\"1\" class=\"dataframe\">\n",
       "  <thead>\n",
       "    <tr style=\"text-align: right;\">\n",
       "      <th></th>\n",
       "      <th>Unnamed: 0</th>\n",
       "      <th>Pregnancies</th>\n",
       "      <th>Glucose</th>\n",
       "      <th>BloodPressure</th>\n",
       "      <th>SkinThickness</th>\n",
       "      <th>Insulin</th>\n",
       "      <th>BMI</th>\n",
       "      <th>DiabetesPedigreeFunction</th>\n",
       "      <th>Age</th>\n",
       "      <th>Outcome</th>\n",
       "    </tr>\n",
       "  </thead>\n",
       "  <tbody>\n",
       "    <tr>\n",
       "      <th>0</th>\n",
       "      <td>0</td>\n",
       "      <td>6</td>\n",
       "      <td>148</td>\n",
       "      <td>72</td>\n",
       "      <td>35</td>\n",
       "      <td>0</td>\n",
       "      <td>33.6</td>\n",
       "      <td>0.627</td>\n",
       "      <td>50</td>\n",
       "      <td>1</td>\n",
       "    </tr>\n",
       "    <tr>\n",
       "      <th>1</th>\n",
       "      <td>1</td>\n",
       "      <td>1</td>\n",
       "      <td>85</td>\n",
       "      <td>66</td>\n",
       "      <td>29</td>\n",
       "      <td>0</td>\n",
       "      <td>26.6</td>\n",
       "      <td>0.351</td>\n",
       "      <td>31</td>\n",
       "      <td>0</td>\n",
       "    </tr>\n",
       "    <tr>\n",
       "      <th>2</th>\n",
       "      <td>2</td>\n",
       "      <td>8</td>\n",
       "      <td>183</td>\n",
       "      <td>64</td>\n",
       "      <td>0</td>\n",
       "      <td>0</td>\n",
       "      <td>23.3</td>\n",
       "      <td>0.672</td>\n",
       "      <td>32</td>\n",
       "      <td>1</td>\n",
       "    </tr>\n",
       "    <tr>\n",
       "      <th>3</th>\n",
       "      <td>3</td>\n",
       "      <td>1</td>\n",
       "      <td>89</td>\n",
       "      <td>66</td>\n",
       "      <td>23</td>\n",
       "      <td>94</td>\n",
       "      <td>28.1</td>\n",
       "      <td>0.167</td>\n",
       "      <td>21</td>\n",
       "      <td>0</td>\n",
       "    </tr>\n",
       "    <tr>\n",
       "      <th>4</th>\n",
       "      <td>4</td>\n",
       "      <td>0</td>\n",
       "      <td>137</td>\n",
       "      <td>40</td>\n",
       "      <td>35</td>\n",
       "      <td>168</td>\n",
       "      <td>43.1</td>\n",
       "      <td>2.288</td>\n",
       "      <td>33</td>\n",
       "      <td>1</td>\n",
       "    </tr>\n",
       "  </tbody>\n",
       "</table>\n",
       "</div>"
      ],
      "text/plain": [
       "   Unnamed: 0  Pregnancies  Glucose  BloodPressure  SkinThickness  Insulin  \\\n",
       "0           0            6      148             72             35        0   \n",
       "1           1            1       85             66             29        0   \n",
       "2           2            8      183             64              0        0   \n",
       "3           3            1       89             66             23       94   \n",
       "4           4            0      137             40             35      168   \n",
       "\n",
       "    BMI  DiabetesPedigreeFunction  Age  Outcome  \n",
       "0  33.6                     0.627   50        1  \n",
       "1  26.6                     0.351   31        0  \n",
       "2  23.3                     0.672   32        1  \n",
       "3  28.1                     0.167   21        0  \n",
       "4  43.1                     2.288   33        1  "
      ]
     },
     "execution_count": 3,
     "metadata": {},
     "output_type": "execute_result"
    }
   ],
   "source": [
    "df.head()"
   ]
  },
  {
   "cell_type": "code",
   "execution_count": 4,
   "id": "83dbbf23-5d28-4852-a795-1f87f4c673e3",
   "metadata": {},
   "outputs": [],
   "source": [
    "df.drop(columns=\"Unnamed: 0\",inplace=True)"
   ]
  },
  {
   "cell_type": "code",
   "execution_count": 5,
   "id": "bd50c458-ad73-4314-8138-c7f4f0e99d66",
   "metadata": {},
   "outputs": [
    {
     "data": {
      "text/html": [
       "<div>\n",
       "<style scoped>\n",
       "    .dataframe tbody tr th:only-of-type {\n",
       "        vertical-align: middle;\n",
       "    }\n",
       "\n",
       "    .dataframe tbody tr th {\n",
       "        vertical-align: top;\n",
       "    }\n",
       "\n",
       "    .dataframe thead th {\n",
       "        text-align: right;\n",
       "    }\n",
       "</style>\n",
       "<table border=\"1\" class=\"dataframe\">\n",
       "  <thead>\n",
       "    <tr style=\"text-align: right;\">\n",
       "      <th></th>\n",
       "      <th>Pregnancies</th>\n",
       "      <th>Glucose</th>\n",
       "      <th>BloodPressure</th>\n",
       "      <th>SkinThickness</th>\n",
       "      <th>Insulin</th>\n",
       "      <th>BMI</th>\n",
       "      <th>DiabetesPedigreeFunction</th>\n",
       "      <th>Age</th>\n",
       "      <th>Outcome</th>\n",
       "    </tr>\n",
       "  </thead>\n",
       "  <tbody>\n",
       "    <tr>\n",
       "      <th>763</th>\n",
       "      <td>10</td>\n",
       "      <td>101</td>\n",
       "      <td>76</td>\n",
       "      <td>48</td>\n",
       "      <td>180</td>\n",
       "      <td>32.9</td>\n",
       "      <td>0.171</td>\n",
       "      <td>63</td>\n",
       "      <td>0</td>\n",
       "    </tr>\n",
       "    <tr>\n",
       "      <th>764</th>\n",
       "      <td>2</td>\n",
       "      <td>122</td>\n",
       "      <td>70</td>\n",
       "      <td>27</td>\n",
       "      <td>0</td>\n",
       "      <td>36.8</td>\n",
       "      <td>0.340</td>\n",
       "      <td>27</td>\n",
       "      <td>0</td>\n",
       "    </tr>\n",
       "    <tr>\n",
       "      <th>765</th>\n",
       "      <td>5</td>\n",
       "      <td>121</td>\n",
       "      <td>72</td>\n",
       "      <td>23</td>\n",
       "      <td>112</td>\n",
       "      <td>26.2</td>\n",
       "      <td>0.245</td>\n",
       "      <td>30</td>\n",
       "      <td>0</td>\n",
       "    </tr>\n",
       "    <tr>\n",
       "      <th>766</th>\n",
       "      <td>1</td>\n",
       "      <td>126</td>\n",
       "      <td>60</td>\n",
       "      <td>0</td>\n",
       "      <td>0</td>\n",
       "      <td>30.1</td>\n",
       "      <td>0.349</td>\n",
       "      <td>47</td>\n",
       "      <td>1</td>\n",
       "    </tr>\n",
       "    <tr>\n",
       "      <th>767</th>\n",
       "      <td>1</td>\n",
       "      <td>93</td>\n",
       "      <td>70</td>\n",
       "      <td>31</td>\n",
       "      <td>0</td>\n",
       "      <td>30.4</td>\n",
       "      <td>0.315</td>\n",
       "      <td>23</td>\n",
       "      <td>0</td>\n",
       "    </tr>\n",
       "  </tbody>\n",
       "</table>\n",
       "</div>"
      ],
      "text/plain": [
       "     Pregnancies  Glucose  BloodPressure  SkinThickness  Insulin   BMI  \\\n",
       "763           10      101             76             48      180  32.9   \n",
       "764            2      122             70             27        0  36.8   \n",
       "765            5      121             72             23      112  26.2   \n",
       "766            1      126             60              0        0  30.1   \n",
       "767            1       93             70             31        0  30.4   \n",
       "\n",
       "     DiabetesPedigreeFunction  Age  Outcome  \n",
       "763                     0.171   63        0  \n",
       "764                     0.340   27        0  \n",
       "765                     0.245   30        0  \n",
       "766                     0.349   47        1  \n",
       "767                     0.315   23        0  "
      ]
     },
     "execution_count": 5,
     "metadata": {},
     "output_type": "execute_result"
    }
   ],
   "source": [
    "df.tail()"
   ]
  },
  {
   "cell_type": "code",
   "execution_count": 6,
   "id": "480a1a82-721e-47e9-97a3-ead7c0985daa",
   "metadata": {},
   "outputs": [],
   "source": [
    "df[['Glucose', 'BloodPressure', 'SkinThickness', 'Insulin','BMI']]=df[['Glucose', 'BloodPressure', 'SkinThickness', 'Insulin','BMI']].replace(0,np.nan)"
   ]
  },
  {
   "cell_type": "markdown",
   "id": "9085308f-e5cd-4782-97cc-f4eaa75435d8",
   "metadata": {},
   "source": [
    "### Checking For Missing Values"
   ]
  },
  {
   "cell_type": "code",
   "execution_count": 7,
   "id": "679671f2-a5ca-4879-a001-6ce2f4985a08",
   "metadata": {},
   "outputs": [
    {
     "data": {
      "text/plain": [
       "Pregnancies                   0\n",
       "Glucose                       5\n",
       "BloodPressure                35\n",
       "SkinThickness               227\n",
       "Insulin                     374\n",
       "BMI                          11\n",
       "DiabetesPedigreeFunction      0\n",
       "Age                           0\n",
       "Outcome                       0\n",
       "dtype: int64"
      ]
     },
     "execution_count": 7,
     "metadata": {},
     "output_type": "execute_result"
    }
   ],
   "source": [
    "df.isnull().sum()"
   ]
  },
  {
   "cell_type": "markdown",
   "id": "d51bfc09-4d28-490e-b8e3-88ad3d9473d8",
   "metadata": {},
   "source": [
    "### Imputing Missing Values"
   ]
  },
  {
   "cell_type": "code",
   "execution_count": 8,
   "id": "009c05e0-b437-42ea-ba68-4b3464b93a21",
   "metadata": {},
   "outputs": [
    {
     "data": {
      "text/html": [
       "<div>\n",
       "<style scoped>\n",
       "    .dataframe tbody tr th:only-of-type {\n",
       "        vertical-align: middle;\n",
       "    }\n",
       "\n",
       "    .dataframe tbody tr th {\n",
       "        vertical-align: top;\n",
       "    }\n",
       "\n",
       "    .dataframe thead th {\n",
       "        text-align: right;\n",
       "    }\n",
       "</style>\n",
       "<table border=\"1\" class=\"dataframe\">\n",
       "  <thead>\n",
       "    <tr style=\"text-align: right;\">\n",
       "      <th></th>\n",
       "      <th>Pregnancies</th>\n",
       "      <th>Glucose</th>\n",
       "      <th>BloodPressure</th>\n",
       "      <th>SkinThickness</th>\n",
       "      <th>Insulin</th>\n",
       "      <th>BMI</th>\n",
       "      <th>DiabetesPedigreeFunction</th>\n",
       "      <th>Age</th>\n",
       "      <th>Outcome</th>\n",
       "    </tr>\n",
       "  </thead>\n",
       "  <tbody>\n",
       "    <tr>\n",
       "      <th>0</th>\n",
       "      <td>6</td>\n",
       "      <td>148.0</td>\n",
       "      <td>72.0</td>\n",
       "      <td>35.00000</td>\n",
       "      <td>155.548223</td>\n",
       "      <td>33.6</td>\n",
       "      <td>0.627</td>\n",
       "      <td>50</td>\n",
       "      <td>1</td>\n",
       "    </tr>\n",
       "    <tr>\n",
       "      <th>1</th>\n",
       "      <td>1</td>\n",
       "      <td>85.0</td>\n",
       "      <td>66.0</td>\n",
       "      <td>29.00000</td>\n",
       "      <td>155.548223</td>\n",
       "      <td>26.6</td>\n",
       "      <td>0.351</td>\n",
       "      <td>31</td>\n",
       "      <td>0</td>\n",
       "    </tr>\n",
       "    <tr>\n",
       "      <th>2</th>\n",
       "      <td>8</td>\n",
       "      <td>183.0</td>\n",
       "      <td>64.0</td>\n",
       "      <td>29.15342</td>\n",
       "      <td>155.548223</td>\n",
       "      <td>23.3</td>\n",
       "      <td>0.672</td>\n",
       "      <td>32</td>\n",
       "      <td>1</td>\n",
       "    </tr>\n",
       "    <tr>\n",
       "      <th>3</th>\n",
       "      <td>1</td>\n",
       "      <td>89.0</td>\n",
       "      <td>66.0</td>\n",
       "      <td>23.00000</td>\n",
       "      <td>94.000000</td>\n",
       "      <td>28.1</td>\n",
       "      <td>0.167</td>\n",
       "      <td>21</td>\n",
       "      <td>0</td>\n",
       "    </tr>\n",
       "    <tr>\n",
       "      <th>4</th>\n",
       "      <td>0</td>\n",
       "      <td>137.0</td>\n",
       "      <td>40.0</td>\n",
       "      <td>35.00000</td>\n",
       "      <td>168.000000</td>\n",
       "      <td>43.1</td>\n",
       "      <td>2.288</td>\n",
       "      <td>33</td>\n",
       "      <td>1</td>\n",
       "    </tr>\n",
       "    <tr>\n",
       "      <th>...</th>\n",
       "      <td>...</td>\n",
       "      <td>...</td>\n",
       "      <td>...</td>\n",
       "      <td>...</td>\n",
       "      <td>...</td>\n",
       "      <td>...</td>\n",
       "      <td>...</td>\n",
       "      <td>...</td>\n",
       "      <td>...</td>\n",
       "    </tr>\n",
       "    <tr>\n",
       "      <th>763</th>\n",
       "      <td>10</td>\n",
       "      <td>101.0</td>\n",
       "      <td>76.0</td>\n",
       "      <td>48.00000</td>\n",
       "      <td>180.000000</td>\n",
       "      <td>32.9</td>\n",
       "      <td>0.171</td>\n",
       "      <td>63</td>\n",
       "      <td>0</td>\n",
       "    </tr>\n",
       "    <tr>\n",
       "      <th>764</th>\n",
       "      <td>2</td>\n",
       "      <td>122.0</td>\n",
       "      <td>70.0</td>\n",
       "      <td>27.00000</td>\n",
       "      <td>155.548223</td>\n",
       "      <td>36.8</td>\n",
       "      <td>0.340</td>\n",
       "      <td>27</td>\n",
       "      <td>0</td>\n",
       "    </tr>\n",
       "    <tr>\n",
       "      <th>765</th>\n",
       "      <td>5</td>\n",
       "      <td>121.0</td>\n",
       "      <td>72.0</td>\n",
       "      <td>23.00000</td>\n",
       "      <td>112.000000</td>\n",
       "      <td>26.2</td>\n",
       "      <td>0.245</td>\n",
       "      <td>30</td>\n",
       "      <td>0</td>\n",
       "    </tr>\n",
       "    <tr>\n",
       "      <th>766</th>\n",
       "      <td>1</td>\n",
       "      <td>126.0</td>\n",
       "      <td>60.0</td>\n",
       "      <td>29.15342</td>\n",
       "      <td>155.548223</td>\n",
       "      <td>30.1</td>\n",
       "      <td>0.349</td>\n",
       "      <td>47</td>\n",
       "      <td>1</td>\n",
       "    </tr>\n",
       "    <tr>\n",
       "      <th>767</th>\n",
       "      <td>1</td>\n",
       "      <td>93.0</td>\n",
       "      <td>70.0</td>\n",
       "      <td>31.00000</td>\n",
       "      <td>155.548223</td>\n",
       "      <td>30.4</td>\n",
       "      <td>0.315</td>\n",
       "      <td>23</td>\n",
       "      <td>0</td>\n",
       "    </tr>\n",
       "  </tbody>\n",
       "</table>\n",
       "<p>768 rows × 9 columns</p>\n",
       "</div>"
      ],
      "text/plain": [
       "     Pregnancies  Glucose  BloodPressure  SkinThickness     Insulin   BMI  \\\n",
       "0              6    148.0           72.0       35.00000  155.548223  33.6   \n",
       "1              1     85.0           66.0       29.00000  155.548223  26.6   \n",
       "2              8    183.0           64.0       29.15342  155.548223  23.3   \n",
       "3              1     89.0           66.0       23.00000   94.000000  28.1   \n",
       "4              0    137.0           40.0       35.00000  168.000000  43.1   \n",
       "..           ...      ...            ...            ...         ...   ...   \n",
       "763           10    101.0           76.0       48.00000  180.000000  32.9   \n",
       "764            2    122.0           70.0       27.00000  155.548223  36.8   \n",
       "765            5    121.0           72.0       23.00000  112.000000  26.2   \n",
       "766            1    126.0           60.0       29.15342  155.548223  30.1   \n",
       "767            1     93.0           70.0       31.00000  155.548223  30.4   \n",
       "\n",
       "     DiabetesPedigreeFunction  Age  Outcome  \n",
       "0                       0.627   50        1  \n",
       "1                       0.351   31        0  \n",
       "2                       0.672   32        1  \n",
       "3                       0.167   21        0  \n",
       "4                       2.288   33        1  \n",
       "..                        ...  ...      ...  \n",
       "763                     0.171   63        0  \n",
       "764                     0.340   27        0  \n",
       "765                     0.245   30        0  \n",
       "766                     0.349   47        1  \n",
       "767                     0.315   23        0  \n",
       "\n",
       "[768 rows x 9 columns]"
      ]
     },
     "execution_count": 8,
     "metadata": {},
     "output_type": "execute_result"
    }
   ],
   "source": [
    "'''imputer = SimpleImputer(strategy='mean')\n",
    "imputed_data = imputer.fit_transform(df)\n",
    "imputed_data = imputer.fit_transform(df)\n",
    "df = pd.DataFrame(imputed_data, columns=df.columns)'''\n",
    "df['Glucose'] = df['Glucose'].replace(np.nan,df['Glucose'].mean())\n",
    "df['BloodPressure'] = df['BloodPressure'].replace(np.nan,df['BloodPressure'].mean())\n",
    "df['SkinThickness'] = df['SkinThickness'].replace(np.nan,df['SkinThickness'].mean())\n",
    "df['Insulin'] = df['Insulin'].replace(np.nan,df['Insulin'].mean())\n",
    "df['BMI'] = df['BMI'].replace(np.nan,df['BMI'].mean())\n",
    "df"
   ]
  },
  {
   "cell_type": "code",
   "execution_count": 9,
   "id": "1982160d-e329-4742-bd1d-99a76f3a31b1",
   "metadata": {},
   "outputs": [
    {
     "data": {
      "text/plain": [
       "Pregnancies                 0\n",
       "Glucose                     0\n",
       "BloodPressure               0\n",
       "SkinThickness               0\n",
       "Insulin                     0\n",
       "BMI                         0\n",
       "DiabetesPedigreeFunction    0\n",
       "Age                         0\n",
       "Outcome                     0\n",
       "dtype: int64"
      ]
     },
     "execution_count": 9,
     "metadata": {},
     "output_type": "execute_result"
    }
   ],
   "source": [
    "df.isnull().sum()"
   ]
  },
  {
   "cell_type": "markdown",
   "id": "84f51c15-f2ec-4241-93c1-1b2540e672d6",
   "metadata": {},
   "source": [
    "### Checking For Duplicated Values"
   ]
  },
  {
   "cell_type": "code",
   "execution_count": 10,
   "id": "1aa4c4c0-8aec-4268-aa34-3d1a91915b8a",
   "metadata": {},
   "outputs": [
    {
     "data": {
      "text/plain": [
       "0"
      ]
     },
     "execution_count": 10,
     "metadata": {},
     "output_type": "execute_result"
    }
   ],
   "source": [
    "df.duplicated().sum()"
   ]
  },
  {
   "cell_type": "markdown",
   "id": "a2b064b2-1434-41b2-8aad-40330743104b",
   "metadata": {},
   "source": [
    "### Removing Duplicates"
   ]
  },
  {
   "cell_type": "code",
   "execution_count": 11,
   "id": "f5f3b14a-7d3c-4d51-9b65-ce2bf3c9b386",
   "metadata": {},
   "outputs": [],
   "source": [
    "df.drop_duplicates(keep=\"first\",inplace=True)"
   ]
  },
  {
   "cell_type": "code",
   "execution_count": 12,
   "id": "54064781-2b13-49dd-96f9-b82b0fed9aed",
   "metadata": {},
   "outputs": [
    {
     "data": {
      "text/plain": [
       "0"
      ]
     },
     "execution_count": 12,
     "metadata": {},
     "output_type": "execute_result"
    }
   ],
   "source": [
    "df.duplicated().sum()"
   ]
  },
  {
   "cell_type": "code",
   "execution_count": 13,
   "id": "1408e8a5-7429-45a2-9313-e0a5bcad0167",
   "metadata": {},
   "outputs": [
    {
     "data": {
      "text/plain": [
       "(768, 9)"
      ]
     },
     "execution_count": 13,
     "metadata": {},
     "output_type": "execute_result"
    }
   ],
   "source": [
    "df.shape"
   ]
  },
  {
   "cell_type": "code",
   "execution_count": 14,
   "id": "680f3748-69a7-4b28-8dac-47b7b9f3521e",
   "metadata": {},
   "outputs": [
    {
     "name": "stdout",
     "output_type": "stream",
     "text": [
      "<class 'pandas.core.frame.DataFrame'>\n",
      "RangeIndex: 768 entries, 0 to 767\n",
      "Data columns (total 9 columns):\n",
      " #   Column                    Non-Null Count  Dtype  \n",
      "---  ------                    --------------  -----  \n",
      " 0   Pregnancies               768 non-null    int64  \n",
      " 1   Glucose                   768 non-null    float64\n",
      " 2   BloodPressure             768 non-null    float64\n",
      " 3   SkinThickness             768 non-null    float64\n",
      " 4   Insulin                   768 non-null    float64\n",
      " 5   BMI                       768 non-null    float64\n",
      " 6   DiabetesPedigreeFunction  768 non-null    float64\n",
      " 7   Age                       768 non-null    int64  \n",
      " 8   Outcome                   768 non-null    int64  \n",
      "dtypes: float64(6), int64(3)\n",
      "memory usage: 54.1 KB\n"
     ]
    }
   ],
   "source": [
    "df.info()"
   ]
  },
  {
   "cell_type": "code",
   "execution_count": 15,
   "id": "d4f7f612-bd5e-450f-b6fa-4f17ff73134a",
   "metadata": {},
   "outputs": [
    {
     "data": {
      "text/html": [
       "<div>\n",
       "<style scoped>\n",
       "    .dataframe tbody tr th:only-of-type {\n",
       "        vertical-align: middle;\n",
       "    }\n",
       "\n",
       "    .dataframe tbody tr th {\n",
       "        vertical-align: top;\n",
       "    }\n",
       "\n",
       "    .dataframe thead th {\n",
       "        text-align: right;\n",
       "    }\n",
       "</style>\n",
       "<table border=\"1\" class=\"dataframe\">\n",
       "  <thead>\n",
       "    <tr style=\"text-align: right;\">\n",
       "      <th></th>\n",
       "      <th>count</th>\n",
       "      <th>mean</th>\n",
       "      <th>std</th>\n",
       "      <th>min</th>\n",
       "      <th>25%</th>\n",
       "      <th>50%</th>\n",
       "      <th>75%</th>\n",
       "      <th>max</th>\n",
       "    </tr>\n",
       "  </thead>\n",
       "  <tbody>\n",
       "    <tr>\n",
       "      <th>Pregnancies</th>\n",
       "      <td>768.0</td>\n",
       "      <td>3.845052</td>\n",
       "      <td>3.369578</td>\n",
       "      <td>0.000</td>\n",
       "      <td>1.00000</td>\n",
       "      <td>3.000000</td>\n",
       "      <td>6.000000</td>\n",
       "      <td>17.00</td>\n",
       "    </tr>\n",
       "    <tr>\n",
       "      <th>Glucose</th>\n",
       "      <td>768.0</td>\n",
       "      <td>121.686763</td>\n",
       "      <td>30.435949</td>\n",
       "      <td>44.000</td>\n",
       "      <td>99.75000</td>\n",
       "      <td>117.000000</td>\n",
       "      <td>140.250000</td>\n",
       "      <td>199.00</td>\n",
       "    </tr>\n",
       "    <tr>\n",
       "      <th>BloodPressure</th>\n",
       "      <td>768.0</td>\n",
       "      <td>72.405184</td>\n",
       "      <td>12.096346</td>\n",
       "      <td>24.000</td>\n",
       "      <td>64.00000</td>\n",
       "      <td>72.202592</td>\n",
       "      <td>80.000000</td>\n",
       "      <td>122.00</td>\n",
       "    </tr>\n",
       "    <tr>\n",
       "      <th>SkinThickness</th>\n",
       "      <td>768.0</td>\n",
       "      <td>29.153420</td>\n",
       "      <td>8.790942</td>\n",
       "      <td>7.000</td>\n",
       "      <td>25.00000</td>\n",
       "      <td>29.153420</td>\n",
       "      <td>32.000000</td>\n",
       "      <td>99.00</td>\n",
       "    </tr>\n",
       "    <tr>\n",
       "      <th>Insulin</th>\n",
       "      <td>768.0</td>\n",
       "      <td>155.548223</td>\n",
       "      <td>85.021108</td>\n",
       "      <td>14.000</td>\n",
       "      <td>121.50000</td>\n",
       "      <td>155.548223</td>\n",
       "      <td>155.548223</td>\n",
       "      <td>846.00</td>\n",
       "    </tr>\n",
       "    <tr>\n",
       "      <th>BMI</th>\n",
       "      <td>768.0</td>\n",
       "      <td>32.457464</td>\n",
       "      <td>6.875151</td>\n",
       "      <td>18.200</td>\n",
       "      <td>27.50000</td>\n",
       "      <td>32.400000</td>\n",
       "      <td>36.600000</td>\n",
       "      <td>67.10</td>\n",
       "    </tr>\n",
       "    <tr>\n",
       "      <th>DiabetesPedigreeFunction</th>\n",
       "      <td>768.0</td>\n",
       "      <td>0.471876</td>\n",
       "      <td>0.331329</td>\n",
       "      <td>0.078</td>\n",
       "      <td>0.24375</td>\n",
       "      <td>0.372500</td>\n",
       "      <td>0.626250</td>\n",
       "      <td>2.42</td>\n",
       "    </tr>\n",
       "    <tr>\n",
       "      <th>Age</th>\n",
       "      <td>768.0</td>\n",
       "      <td>33.240885</td>\n",
       "      <td>11.760232</td>\n",
       "      <td>21.000</td>\n",
       "      <td>24.00000</td>\n",
       "      <td>29.000000</td>\n",
       "      <td>41.000000</td>\n",
       "      <td>81.00</td>\n",
       "    </tr>\n",
       "    <tr>\n",
       "      <th>Outcome</th>\n",
       "      <td>768.0</td>\n",
       "      <td>0.348958</td>\n",
       "      <td>0.476951</td>\n",
       "      <td>0.000</td>\n",
       "      <td>0.00000</td>\n",
       "      <td>0.000000</td>\n",
       "      <td>1.000000</td>\n",
       "      <td>1.00</td>\n",
       "    </tr>\n",
       "  </tbody>\n",
       "</table>\n",
       "</div>"
      ],
      "text/plain": [
       "                          count        mean        std     min        25%  \\\n",
       "Pregnancies               768.0    3.845052   3.369578   0.000    1.00000   \n",
       "Glucose                   768.0  121.686763  30.435949  44.000   99.75000   \n",
       "BloodPressure             768.0   72.405184  12.096346  24.000   64.00000   \n",
       "SkinThickness             768.0   29.153420   8.790942   7.000   25.00000   \n",
       "Insulin                   768.0  155.548223  85.021108  14.000  121.50000   \n",
       "BMI                       768.0   32.457464   6.875151  18.200   27.50000   \n",
       "DiabetesPedigreeFunction  768.0    0.471876   0.331329   0.078    0.24375   \n",
       "Age                       768.0   33.240885  11.760232  21.000   24.00000   \n",
       "Outcome                   768.0    0.348958   0.476951   0.000    0.00000   \n",
       "\n",
       "                                 50%         75%     max  \n",
       "Pregnancies                 3.000000    6.000000   17.00  \n",
       "Glucose                   117.000000  140.250000  199.00  \n",
       "BloodPressure              72.202592   80.000000  122.00  \n",
       "SkinThickness              29.153420   32.000000   99.00  \n",
       "Insulin                   155.548223  155.548223  846.00  \n",
       "BMI                        32.400000   36.600000   67.10  \n",
       "DiabetesPedigreeFunction    0.372500    0.626250    2.42  \n",
       "Age                        29.000000   41.000000   81.00  \n",
       "Outcome                     0.000000    1.000000    1.00  "
      ]
     },
     "execution_count": 15,
     "metadata": {},
     "output_type": "execute_result"
    }
   ],
   "source": [
    "df.describe(include=\"all\").T"
   ]
  },
  {
   "cell_type": "code",
   "execution_count": 16,
   "id": "35bf8d79-1a1f-4cf9-9122-40501e1af7e8",
   "metadata": {},
   "outputs": [
    {
     "data": {
      "text/plain": [
       "Index(['Pregnancies', 'Glucose', 'BloodPressure', 'SkinThickness', 'Insulin',\n",
       "       'BMI', 'DiabetesPedigreeFunction', 'Age', 'Outcome'],\n",
       "      dtype='object')"
      ]
     },
     "execution_count": 16,
     "metadata": {},
     "output_type": "execute_result"
    }
   ],
   "source": [
    "df.columns"
   ]
  },
  {
   "cell_type": "markdown",
   "id": "f5a35564-1bb4-478f-9c19-0520c4a3b259",
   "metadata": {},
   "source": [
    "## Plotting Correlation Heat Map"
   ]
  },
  {
   "cell_type": "code",
   "execution_count": 17,
   "id": "3683e46d-7fbc-4b28-947d-6ef89395d2df",
   "metadata": {},
   "outputs": [
    {
     "data": {
      "text/plain": [
       "<Axes: >"
      ]
     },
     "execution_count": 17,
     "metadata": {},
     "output_type": "execute_result"
    },
    {
     "data": {
      "image/png": "[encoded data removed]",
      "text/plain": [
       "<Figure size 640x480 with 2 Axes>"
      ]
     },
     "metadata": {},
     "output_type": "display_data"
    }
   ],
   "source": [
    "sns.heatmap(data=df.corr(), annot=True, fmt='.2f')"
   ]
  },
  {
   "cell_type": "markdown",
   "id": "4930c9b8-d48e-462f-99a6-895f91612b3d",
   "metadata": {},
   "source": [
    "## Handeling Required Outliers "
   ]
  },
  {
   "cell_type": "code",
   "execution_count": 18,
   "id": "d82a3f9a-6d26-4883-985c-f951a47e61c5",
   "metadata": {},
   "outputs": [],
   "source": [
    "for column in df.select_dtypes(include=['number']):\n",
    "    df[column] = winsorize(df[column], limits=(0.05, 0.05))\n",
    "#column will be replaced with values from the 5th and 95th percentiles"
   ]
  },
  {
   "cell_type": "code",
   "execution_count": 19,
   "id": "91c5c58f-6ceb-41a7-a465-0b60bb66eb42",
   "metadata": {},
   "outputs": [],
   "source": [
    "dff=df#.replace(np.nan,1)\n",
    "#dff.dropna(inplace=True)"
   ]
  },
  {
   "cell_type": "code",
   "execution_count": 20,
   "id": "4a341bff-4bb3-469a-9ebb-f9179c48e56b",
   "metadata": {},
   "outputs": [
    {
     "data": {
      "text/plain": [
       "(     Pregnancies  Glucose  BloodPressure  SkinThickness     Insulin   BMI  \\\n",
       " 0              6    148.0           72.0       35.00000  155.548223  33.6   \n",
       " 1              1     85.0           66.0       29.00000  155.548223  26.6   \n",
       " 2              8    181.0           64.0       29.15342  155.548223  23.3   \n",
       " 3              1     89.0           66.0       23.00000   94.000000  28.1   \n",
       " 4              0    137.0           52.0       35.00000  168.000000  43.1   \n",
       " ..           ...      ...            ...            ...         ...   ...   \n",
       " 763           10    101.0           76.0       44.00000  180.000000  32.9   \n",
       " 764            2    122.0           70.0       27.00000  155.548223  36.8   \n",
       " 765            5    121.0           72.0       23.00000  112.000000  26.2   \n",
       " 766            1    126.0           60.0       29.15342  155.548223  30.1   \n",
       " 767            1     93.0           70.0       31.00000  155.548223  30.4   \n",
       " \n",
       "      DiabetesPedigreeFunction  Age  \n",
       " 0                       0.627   50  \n",
       " 1                       0.351   31  \n",
       " 2                       0.672   32  \n",
       " 3                       0.167   21  \n",
       " 4                       1.136   33  \n",
       " ..                        ...  ...  \n",
       " 763                     0.171   58  \n",
       " 764                     0.340   27  \n",
       " 765                     0.245   30  \n",
       " 766                     0.349   47  \n",
       " 767                     0.315   23  \n",
       " \n",
       " [768 rows x 8 columns],\n",
       " 0      1\n",
       " 1      0\n",
       " 2      1\n",
       " 3      0\n",
       " 4      1\n",
       "       ..\n",
       " 763    0\n",
       " 764    0\n",
       " 765    0\n",
       " 766    1\n",
       " 767    0\n",
       " Name: Outcome, Length: 768, dtype: int64)"
      ]
     },
     "execution_count": 20,
     "metadata": {},
     "output_type": "execute_result"
    }
   ],
   "source": [
    "X = dff.drop(columns='Outcome',axis=1)\n",
    "y = dff['Outcome'] # Target\n",
    "X,y"
   ]
  },
  {
   "cell_type": "markdown",
   "id": "86e9b9e5-625a-40ab-8ee3-d453672de07e",
   "metadata": {},
   "source": [
    "## Using K fold Cross Validation"
   ]
  },
  {
   "cell_type": "code",
   "execution_count": 21,
   "id": "c909f709-c9c2-4e84-ba28-6091bfe427f5",
   "metadata": {},
   "outputs": [],
   "source": [
    "kf = KFold(n_splits=5, shuffle=True, random_state=42)\n",
    "Xtrain, Xtest, ytrain, ytest = train_test_split(X, y, test_size=0.2, random_state=42)"
   ]
  },
  {
   "cell_type": "markdown",
   "id": "f6416b85-081c-412c-8a1a-1b9718f8a8b0",
   "metadata": {},
   "source": [
    "## Making Pipline To find Better Classifier For Current Task"
   ]
  },
  {
   "cell_type": "code",
   "execution_count": 22,
   "id": "7ac26c82-f84b-4ee1-99b2-3f09410d2833",
   "metadata": {},
   "outputs": [],
   "source": [
    "pipeline_hgb  = Pipeline([('scalar1',StandardScaler()),('hgb_classifier',HistGradientBoostingClassifier())])\n",
    "pipeline_svc = Pipeline([('scalar2',StandardScaler()),('svc_classifier',SVC())])\n",
    "pipeline_dt = Pipeline([('scalar3',StandardScaler()),('dt_classifier',DecisionTreeClassifier())])\n",
    "pipeline_rf = Pipeline([('scalar4',StandardScaler()),('rf_classifier',RandomForestClassifier())])\n",
    "pipeline_gbc = Pipeline([('scalar5',StandardScaler()),('gbc_classifier',GradientBoostingClassifier())])\n",
    "pipeline_sgd = Pipeline([('scalar6',StandardScaler()),('sgd_classifier',SGDClassifier())])"
   ]
  },
  {
   "cell_type": "code",
   "execution_count": 23,
   "id": "335ee1ab-980d-4555-af26-56cc0460f4e2",
   "metadata": {},
   "outputs": [],
   "source": [
    "pipelines = [pipeline_hgb,\n",
    "            pipeline_svc,\n",
    "            pipeline_dt,\n",
    "            pipeline_rf,\n",
    "            pipeline_gbc,\n",
    "            pipeline_sgd]"
   ]
  },
  {
   "cell_type": "code",
   "execution_count": 24,
   "id": "9773d316-dc8f-4f31-b2e0-94e26ef44c58",
   "metadata": {},
   "outputs": [],
   "source": [
    "pipe_dict = {0:'HGB',\n",
    "             1:'SVC',\n",
    "             2:'DT',\n",
    "             3: 'RF',\n",
    "             4: 'GBC',\n",
    "             5: 'SGD'}"
   ]
  },
  {
   "cell_type": "markdown",
   "id": "40af43cb-daa8-47a6-977e-6dfb474f9683",
   "metadata": {},
   "source": [
    "### Selecting Best Classifier Based On Highest Accuracy Given"
   ]
  },
  {
   "cell_type": "code",
   "execution_count": 25,
   "id": "361dece9-e45d-44f7-9330-5d3af93b9d85",
   "metadata": {},
   "outputs": [
    {
     "name": "stdout",
     "output_type": "stream",
     "text": [
      "Pipeline: HGB\n",
      "Accuracy_scores: [0.75324675 0.78571429 0.77272727 0.74509804 0.75163399]\n",
      "Accuracy_scores_mean: 0.7616840675664205\n",
      "\n",
      "Pipeline: SVC\n",
      "Accuracy_scores: [0.74675325 0.77922078 0.73376623 0.76470588 0.76470588]\n",
      "Accuracy_scores_mean: 0.7578304048892284\n",
      "\n",
      "Pipeline: DT\n",
      "Accuracy_scores: [0.74025974 0.73376623 0.72727273 0.69281046 0.70588235]\n",
      "Accuracy_scores_mean: 0.7199983023512436\n",
      "\n",
      "Pipeline: RF\n",
      "Accuracy_scores: [0.73376623 0.79220779 0.75974026 0.77124183 0.76470588]\n",
      "Accuracy_scores_mean: 0.7643323996265172\n",
      "\n",
      "Pipeline: GBC\n",
      "Accuracy_scores: [0.74025974 0.81168831 0.76623377 0.75163399 0.76470588]\n",
      "Accuracy_scores_mean: 0.7669043374925728\n",
      "\n",
      "Pipeline: SGD\n",
      "Accuracy_scores: [0.69480519 0.73376623 0.74025974 0.70588235 0.74509804]\n",
      "Accuracy_scores_mean: 0.7239623121976063\n",
      "\n"
     ]
    }
   ],
   "source": [
    "for i, pipe in enumerate(pipelines):\n",
    "    accuracy_scores = cross_val_score(pipe, X, y, cv=kf, scoring='accuracy')\n",
    "    print(f\"Pipeline: {pipe_dict[i]}\")\n",
    "    print(\"Accuracy_scores:\", accuracy_scores)\n",
    "    print(\"Accuracy_scores_mean:\", np.mean(accuracy_scores))\n",
    "    print()"
   ]
  },
  {
   "cell_type": "code",
   "execution_count": 26,
   "id": "247b9bba-7c42-4fae-ad6b-73e458dc37ef",
   "metadata": {},
   "outputs": [
    {
     "name": "stdout",
     "output_type": "stream",
     "text": [
      "Pipeline: HGB\n",
      "Mean Accuracy Score: 0.7616840675664205\n",
      "Mean Precision Score: 0.6692335562987737\n",
      "Mean Recall Score: 0.6346218617868666\n",
      "Mean F1 Score: 0.647531083596171\n",
      "Variance in Performance: 0.00022933849893510722\n",
      "\n",
      "Pipeline: SVC\n",
      "Mean Accuracy Score: 0.7578304048892284\n",
      "Mean Precision Score: 0.6967724867724867\n",
      "Mean Recall Score: 0.5444888488945114\n",
      "Mean F1 Score: 0.608377602669955\n",
      "Variance in Performance: 0.00025077605179164565\n",
      "\n",
      "Pipeline: DT\n",
      "Mean Accuracy Score: 0.7330701977760802\n",
      "Mean Precision Score: 0.6248986722571628\n",
      "Mean Recall Score: 0.5916461561843613\n",
      "Mean F1 Score: 0.6093614665038947\n",
      "Variance in Performance: 0.00018714023357592062\n",
      "\n",
      "Pipeline: RF\n",
      "Mean Accuracy Score: 0.7499787793905441\n",
      "Mean Precision Score: 0.6936061852924942\n",
      "Mean Recall Score: 0.5973232973201702\n",
      "Mean F1 Score: 0.6337109561944076\n",
      "Variance in Performance: 0.00017355255899871607\n",
      "\n",
      "Pipeline: GBC\n",
      "Mean Accuracy Score: 0.7669128257363551\n",
      "Mean Precision Score: 0.6851459510357816\n",
      "Mean Recall Score: 0.6218600811526253\n",
      "Mean F1 Score: 0.6502775408219571\n",
      "Variance in Performance: 0.00048570824645960626\n",
      "\n",
      "Pipeline: SGD\n",
      "Mean Accuracy Score: 0.6978694508106273\n",
      "Mean Precision Score: 0.6053556969346443\n",
      "Mean Recall Score: 0.5547519552840506\n",
      "Mean F1 Score: 0.5635152745768577\n",
      "Variance in Performance: 0.004034666964608994\n",
      "\n"
     ]
    }
   ],
   "source": [
    "for i, pipe in enumerate(pipelines):\n",
    "    accuracy_scores = cross_val_score(pipe, X, y, cv=kf, scoring='accuracy')\n",
    "    precision_scores = cross_val_score(pipe, X, y, cv=kf, scoring='precision')\n",
    "    recall_scores = cross_val_score(pipe, X, y, cv=kf, scoring='recall')\n",
    "    f1_scores = cross_val_score(pipe, X, y, cv=kf, scoring='f1')\n",
    "    print(f\"Pipeline: {pipe_dict[i]}\")\n",
    "    print(\"Mean Accuracy Score:\", np.mean(accuracy_scores))\n",
    "    print(\"Mean Precision Score:\", np.mean(precision_scores))\n",
    "    print(\"Mean Recall Score:\", np.mean(recall_scores))\n",
    "    print(\"Mean F1 Score:\", np.mean(f1_scores))\n",
    "    variance = np.var(accuracy_scores)\n",
    "    print(\"Variance in Performance:\", variance)\n",
    "    print()\n",
    "   "
   ]
  },
  {
   "cell_type": "markdown",
   "id": "1576f50a-664e-4bb1-86de-3d2e554d3e5c",
   "metadata": {},
   "source": [
    "###  Hypertuning"
   ]
  },
  {
   "cell_type": "code",
   "execution_count": 27,
   "id": "502cd40c-d842-4a11-a451-884a92eb5ae8",
   "metadata": {},
   "outputs": [
    {
     "name": "stdout",
     "output_type": "stream",
     "text": [
      "Accuracy scores: [0.74025974 0.81168831 0.77922078 0.75163399 0.76470588]\n",
      "Mean accuracy score: 0.7695017400899754\n",
      "Accuracy scores X: [0.74025974 0.81168831 0.77922078 0.75163399 0.76470588]\n",
      "Mean accuracy score X: 0.7695017400899754\n"
     ]
    }
   ],
   "source": [
    "scaler = StandardScaler()\n",
    "model = GradientBoostingClassifier(learning_rate=0.1,n_estimators=112,max_depth=3,validation_fraction=0.2,random_state=42)\n",
    "X_scaled = scaler.fit_transform(X)\n",
    "accuracy_scores = cross_val_score(model, X_scaled, y, cv=kf, scoring='accuracy')\n",
    "accuracy_scores_X = cross_val_score(model, X, y, cv=kf, scoring='accuracy')\n",
    "print(\"Accuracy scores:\", accuracy_scores)\n",
    "print(\"Mean accuracy score:\", np.mean(accuracy_scores))\n",
    "print(\"Accuracy scores X:\", accuracy_scores_X)\n",
    "print(\"Mean accuracy score X:\", np.mean(accuracy_scores_X))"
   ]
  },
  {
   "cell_type": "code",
   "execution_count": 28,
   "id": "34ba0a37-e0a3-46ac-a9cf-ad429d60badb",
   "metadata": {},
   "outputs": [
    {
     "name": "stdout",
     "output_type": "stream",
     "text": [
      "Accuracy scores: [1.  1.  1.  1.  0.  0.  0.5 0.5 1.  0.5 1.  1.  0.5 1.  0.5 1.  1.  1.\n",
      " 0.5 0.5 1.  0.5 1.  0.5 0.5 1.  0.5 1.  1.  1.  1.  1.  1.  1.  1.  0.5\n",
      " 0.5 1.  1.  1.  0.5 1.  1.  0.5 1.  1.  0.5 1.  1.  1.  0.5 1.  1.  1.\n",
      " 0.  1.  1.  1.  1.  1.  1.  0.5 1.  0.5 0.5 1.  0.5 1.  0.5 1.  1.  1.\n",
      " 1.  0.5 1.  1.  0.5 0.5 1.  1.  0.5 1.  1.  1.  0.  0.  0.5 0.5 1.  0.5\n",
      " 1.  1.  1.  1.  1.  0.5 1.  1.  1.  0.5 1.  0.5 0.5 1.  0.5 1.  1.  1.\n",
      " 0.  0.5 1.  1.  0.5 0.  1.  1.  0.5 1.  1.  0.  1.  1.  1.  0.5 1.  0.5\n",
      " 1.  1.  0.5 1.  1.  1.  1.  1.  1.  1.  1.  1.  1.  1.  1.  1.  1.  1.\n",
      " 0.5 1.  1.  1.  1.  0.5 1.  1.  1.  1.  0.5 1.  1.  1.  1.  1.  0.5 1.\n",
      " 0.5 1.  1.  1.  1.  0.5 1.  1.  0.5 1.  1.  1.  1.  0.5 0.5 1.  1.  1.\n",
      " 1.  1.  1.  1.  1.  0.5 0.5 1.  0.5 1.  0.5 1.  1.  1.  0.5 0.5 0.5 0.5\n",
      " 1.  0.  0.5 0.5 1.  1.  0.5 0.5 1.  1.  1.  1.  0.5 1.  0.5 0.5 1.  1.\n",
      " 1.  0.5 1.  0.5 0.5 1.  1.  0.5 0.5 0.  0.5 1.  1.  1.  0.5 0.5 0.5 1.\n",
      " 1.  1.  0.  0.  1.  1.  1.  0.5 1.  1.  1.  1.  0.5 1.  1.  0.5 1.  0.5\n",
      " 1.  0.5 1.  1.  1.  1.  1.  1.  1.  1.  1.  0.5 0.5 1.  1.  1.  1.  1.\n",
      " 0.5 0.5 1.  1.  0.5 1.  0.5 1.  1.  0.5 1.  1.  1.  0.5 0.5 0.  1.  1.\n",
      " 1.  0.  1.  1.  0.  1.  0.5 0.5 1.  1.  1.  0.5 1.  1.  1.  0.  1.  1.\n",
      " 0.5 1.  0.  1.  1.  0.5 0.5 1.  0.  0.5 0.  1.  1.  1.  1.  0.5 1.  0.5\n",
      " 1.  1.  0.  1.  1.  0.5 0.  1.  1.  1.  1.  1.  0.5 0.5 1.  0.5 1.  0.5\n",
      " 0.5 1.  1.  0.5 1.  0.5 1.  1.  1.  1.  1.  1.  0.5 1.  1.  1.  0.5 1.\n",
      " 1.  0.5 0.5 1.  0.5 1.  0.5 0.5 0.5 1.  1.  0.5 1.  1.  0.5 1.  0.5 1.\n",
      " 0.5 1.  1.  1.  0.5 0.5]\n",
      "Mean accuracy score: 0.7916666666666666\n"
     ]
    }
   ],
   "source": [
    "X = dff.drop(columns='Outcome',axis=1)\n",
    "y = dff['Outcome'] # Target\n",
    "X = X.to_numpy()\n",
    "y = y.to_numpy()\n",
    "kf = KFold(n_splits=384, shuffle=True, random_state=42)\n",
    "scaler = StandardScaler()\n",
    "model = GradientBoostingClassifier(warm_start=True,learning_rate=0.01,n_estimators=123,max_depth=3)\n",
    "accuracy_scores = []\n",
    "for train_index, test_index in kf.split(X):\n",
    "    X_train, X_test = X[train_index], X[test_index]\n",
    "    y_train, y_test = y[train_index], y[test_index]\n",
    "    X_train_scaled = scaler.fit_transform(X_train)\n",
    "    model.fit(X_train_scaled, y_train)\n",
    "    X_test_scaled = scaler.transform(X_test)\n",
    "    y_pred = model.predict(X_test_scaled)\n",
    "    accuracy = accuracy_score(y_test, y_pred)\n",
    "    accuracy_scores.append(accuracy)\n",
    "accuracy_scores = np.array(accuracy_scores)\n",
    "print(\"Accuracy scores:\", accuracy_scores)\n",
    "print(\"Mean accuracy score:\", np.mean(accuracy_scores))"
   ]
  },
  {
   "cell_type": "code",
   "execution_count": 29,
   "id": "3fa70192-d53a-4f8a-9729-27f6fa6d8f4f",
   "metadata": {},
   "outputs": [
    {
     "name": "stdout",
     "output_type": "stream",
     "text": [
      "Mean Accuracy Score: 0.7916666666666666\n",
      "Mean Precision Score: 0.7984441946941947\n",
      "Mean Recall Score: 0.5313687048245872\n",
      "Mean F1 Score: 0.6301789625748435\n",
      "Mean Confusion Matrix:\n",
      "[[23.25  1.75]\n",
      " [ 6.25  7.15]]\n"
     ]
    }
   ],
   "source": [
    "X = dff.drop(columns='Outcome', axis=1)\n",
    "y = dff['Outcome'] # Target\n",
    "X = X.to_numpy()\n",
    "y = y.to_numpy()\n",
    "kf = KFold(n_splits=20, shuffle=True, random_state=42)\n",
    "scaler = StandardScaler()\n",
    "model = GradientBoostingClassifier(warm_start=True, learning_rate=0.01, n_estimators=123, max_depth=3)\n",
    "\n",
    "accuracy_scores = []\n",
    "precision_scores = []\n",
    "recall_scores = []\n",
    "f1_scores = []\n",
    "confusion_matrices = []\n",
    "\n",
    "for train_index, test_index in kf.split(X):\n",
    "    X_train, X_test = X[train_index], X[test_index]\n",
    "    y_train, y_test = y[train_index], y[test_index]\n",
    "    X_train_scaled = scaler.fit_transform(X_train)\n",
    "    model.fit(X_train_scaled, y_train)\n",
    "    X_test_scaled = scaler.transform(X_test)\n",
    "    y_pred = model.predict(X_test_scaled)\n",
    "    \n",
    "    # Calculate evaluation metrics\n",
    "    accuracy = accuracy_score(y_test, y_pred)\n",
    "    precision = precision_score(y_test, y_pred, zero_division=0)\n",
    "    recall = recall_score(y_test, y_pred)\n",
    "    f1 = f1_score(y_test, y_pred)\n",
    "    confusion_matrix_result = confusion_matrix(y_test, y_pred)\n",
    "    \n",
    "    # Append scores to lists\n",
    "    accuracy_scores.append(accuracy)\n",
    "    precision_scores.append(precision)\n",
    "    recall_scores.append(recall)\n",
    "    f1_scores.append(f1)\n",
    "    \n",
    "    # Convert confusion matrix to list and append\n",
    "    confusion_matrices.append(confusion_matrix_result.tolist())\n",
    "\n",
    "# Calculate mean scores\n",
    "mean_accuracy = np.mean(accuracy_scores)\n",
    "mean_precision = np.mean(precision_scores)\n",
    "mean_recall = np.mean(recall_scores)\n",
    "mean_f1 = np.mean(f1_scores)\n",
    "\n",
    "print(\"Mean Accuracy Score:\", mean_accuracy)\n",
    "print(\"Mean Precision Score:\", mean_precision)\n",
    "print(\"Mean Recall Score:\", mean_recall)\n",
    "print(\"Mean F1 Score:\", mean_f1)\n",
    "\n",
    "# Mean confusion matrix\n",
    "mean_confusion_matrix = np.mean(confusion_matrices, axis=0)\n",
    "print(\"Mean Confusion Matrix:\")\n",
    "print(mean_confusion_matrix)\n"
   ]
  },
  {
   "cell_type": "code",
   "execution_count": 30,
   "id": "c87478d2-b1b5-414b-9365-5a9bc474f608",
   "metadata": {},
   "outputs": [
    {
     "name": "stdout",
     "output_type": "stream",
     "text": [
      "Mean Accuracy Score: 0.7577260458839408\n",
      "Mean Precision Score: 0.7342721167721168\n",
      "Mean Recall Score: 0.4735300851109675\n",
      "Mean F1 Score: 0.5667974880869617\n",
      "Mean Confusion Matrix:\n",
      "[[22.7  2.3]\n",
      " [ 7.   6.4]]\n"
     ]
    }
   ],
   "source": [
    "X = dff.drop(columns='Outcome', axis=1)\n",
    "y = dff['Outcome'] # Target\n",
    "X = X.to_numpy()\n",
    "y = y.to_numpy()\n",
    "kf = KFold(n_splits=20, shuffle=True, random_state=42)\n",
    "scaler = StandardScaler()\n",
    "model = RandomForestClassifier(max_depth=3)\n",
    "\n",
    "accuracy_scores = []\n",
    "precision_scores = []\n",
    "recall_scores = []\n",
    "f1_scores = []\n",
    "confusion_matrices = []\n",
    "\n",
    "for train_index, test_index in kf.split(X):\n",
    "    X_train, X_test = X[train_index], X[test_index]\n",
    "    y_train, y_test = y[train_index], y[test_index]\n",
    "    X_train_scaled = scaler.fit_transform(X_train)\n",
    "    model.fit(X_train_scaled, y_train)\n",
    "    X_test_scaled = scaler.transform(X_test)\n",
    "    y_pred = model.predict(X_test_scaled)\n",
    "    \n",
    "    # Calculate evaluation metrics\n",
    "    accuracy = accuracy_score(y_test, y_pred)\n",
    "    precision = precision_score(y_test, y_pred, zero_division=0)\n",
    "    recall = recall_score(y_test, y_pred)\n",
    "    f1 = f1_score(y_test, y_pred)\n",
    "    confusion_matrix_result = confusion_matrix(y_test, y_pred)\n",
    "    \n",
    "    # Append scores to lists\n",
    "    accuracy_scores.append(accuracy)\n",
    "    precision_scores.append(precision)\n",
    "    recall_scores.append(recall)\n",
    "    f1_scores.append(f1)\n",
    "    \n",
    "    # Convert confusion matrix to list and append\n",
    "    confusion_matrices.append(confusion_matrix_result.tolist())\n",
    "\n",
    "# Calculate mean scores\n",
    "mean_accuracy = np.mean(accuracy_scores)\n",
    "mean_precision = np.mean(precision_scores)\n",
    "mean_recall = np.mean(recall_scores)\n",
    "mean_f1 = np.mean(f1_scores)\n",
    "\n",
    "print(\"Mean Accuracy Score:\", mean_accuracy)\n",
    "print(\"Mean Precision Score:\", mean_precision)\n",
    "print(\"Mean Recall Score:\", mean_recall)\n",
    "print(\"Mean F1 Score:\", mean_f1)\n",
    "\n",
    "# Mean confusion matrix\n",
    "mean_confusion_matrix = np.mean(confusion_matrices, axis=0)\n",
    "print(\"Mean Confusion Matrix:\")\n",
    "print(mean_confusion_matrix)"
   ]
  },
  {
   "cell_type": "markdown",
   "id": "69a1e322-2849-44bd-aadd-d5f92b6846b6",
   "metadata": {},
   "source": [
    "## Training Model On Whole Dataset"
   ]
  },
  {
   "cell_type": "markdown",
   "id": "493ee912-0609-4621-bf40-9ad91f63d501",
   "metadata": {},
   "source": [
    "## Saving The Model"
   ]
  },
  {
   "cell_type": "code",
   "execution_count": 31,
   "id": "5c180dac-a890-4169-ab95-541da23f32e0",
   "metadata": {},
   "outputs": [
    {
     "name": "stdout",
     "output_type": "stream",
     "text": [
      "Accuracy score on the entire dataset: 0.7825520833333334\n"
     ]
    },
    {
     "data": {
      "text/plain": [
       "['Diabetese_Prediction.pkl']"
      ]
     },
     "execution_count": 31,
     "metadata": {},
     "output_type": "execute_result"
    }
   ],
   "source": [
    "X_scaled = scaler.fit_transform(X)\n",
    "model.fit(X_scaled, y)\n",
    "y_pred = model.predict(X_scaled)\n",
    "accuracy = accuracy_score(y, y_pred)\n",
    "print(\"Accuracy score on the entire dataset:\", accuracy)\n",
    "joblib.dump(model,\"Diabetese_Prediction.pkl\")"
   ]
  },
  {
   "cell_type": "markdown",
   "id": "e5f448eb-7879-400c-a76f-e2a9a1072687",
   "metadata": {},
   "source": [
    "### Test Cases"
   ]
  },
  {
   "cell_type": "code",
   "execution_count": 32,
   "id": "f6c54208-3805-4a18-a208-142ca0f0d998",
   "metadata": {},
   "outputs": [
    {
     "name": "stdout",
     "output_type": "stream",
     "text": [
      "non-diabetic\n"
     ]
    }
   ],
   "source": [
    "new_data = pd.DataFrame({\n",
    "    'Pregnancies':6,\n",
    "    'Glucose':148.0,\n",
    "    'BloodPressure':72.0,\n",
    "    'SkinThickness':35.0,\n",
    "    'Insulin':79.799479,\n",
    "    'BMI':33.6,\n",
    "    'DiabetesPedigreeFunction':0.627,\n",
    "    'Age':50,    \n",
    "},index=[0])\n",
    "\n",
    "p = p = model.predict(scaler.transform(new_data.to_numpy()))\n",
    "\n",
    "if p[0] == 0:\n",
    "    print('non-diabetic')\n",
    "else:\n",
    "    print('diabetic')\n",
    "\n"
   ]
  },
  {
   "cell_type": "code",
   "execution_count": 33,
   "id": "87010663-dd02-4fc9-89bf-73281d274d45",
   "metadata": {},
   "outputs": [
    {
     "name": "stdout",
     "output_type": "stream",
     "text": [
      "non-diabetic\n"
     ]
    }
   ],
   "source": [
    "data = pd.DataFrame({\n",
    "    'Pregnancies':1,\n",
    "    'Glucose':89.0,\n",
    "    'BloodPressure':66.0,\n",
    "    'SkinThickness':23.0,\n",
    "    'Insulin':29.0,\n",
    "    'BMI':26.6,\n",
    "    'DiabetesPedigreeFunction':0.167,\n",
    "    'Age':21,    \n",
    "},index=[0])\n",
    "\n",
    "p = model.predict(scaler.fit_transform(data.to_numpy()))\n",
    "\n",
    "if p[0] == 0:\n",
    "    print('non-diabetic')\n",
    "else:\n",
    "    print('diabetic')"
   ]
  },
  {
   "cell_type": "markdown",
   "id": "8276c7a0-781c-428a-bf83-ae530efe187f",
   "metadata": {},
   "source": [
    "### Doing Above Using Train_Test_Split method"
   ]
  },
  {
   "cell_type": "code",
   "execution_count": 41,
   "id": "4c9b29f1-4797-493a-a450-529a6e9e5e01",
   "metadata": {},
   "outputs": [
    {
     "name": "stdout",
     "output_type": "stream",
     "text": [
      "Pipeline: HGB\n",
      "Accuracy Score: 0.7532467532467533\n",
      "Classification Report:\n",
      "              precision    recall  f1-score   support\n",
      "\n",
      "           0       0.84      0.76      0.80        99\n",
      "           1       0.63      0.75      0.68        55\n",
      "\n",
      "    accuracy                           0.75       154\n",
      "   macro avg       0.74      0.75      0.74       154\n",
      "weighted avg       0.77      0.75      0.76       154\n",
      "\n",
      "\n",
      "Pipeline: SVC\n",
      "Accuracy Score: 0.7467532467532467\n",
      "Classification Report:\n",
      "              precision    recall  f1-score   support\n",
      "\n",
      "           0       0.80      0.81      0.80        99\n",
      "           1       0.65      0.64      0.64        55\n",
      "\n",
      "    accuracy                           0.75       154\n",
      "   macro avg       0.72      0.72      0.72       154\n",
      "weighted avg       0.75      0.75      0.75       154\n",
      "\n",
      "\n",
      "Pipeline: DT\n",
      "Accuracy Score: 0.7207792207792207\n",
      "Classification Report:\n",
      "              precision    recall  f1-score   support\n",
      "\n",
      "           0       0.79      0.77      0.78        99\n",
      "           1       0.60      0.64      0.62        55\n",
      "\n",
      "    accuracy                           0.72       154\n",
      "   macro avg       0.70      0.70      0.70       154\n",
      "weighted avg       0.72      0.72      0.72       154\n",
      "\n",
      "\n",
      "Pipeline: RF\n",
      "Accuracy Score: 0.7662337662337663\n",
      "Classification Report:\n",
      "              precision    recall  f1-score   support\n",
      "\n",
      "           0       0.82      0.81      0.82        99\n",
      "           1       0.67      0.69      0.68        55\n",
      "\n",
      "    accuracy                           0.77       154\n",
      "   macro avg       0.75      0.75      0.75       154\n",
      "weighted avg       0.77      0.77      0.77       154\n",
      "\n",
      "\n",
      "Pipeline: GBC\n",
      "Accuracy Score: 0.7402597402597403\n",
      "Classification Report:\n",
      "              precision    recall  f1-score   support\n",
      "\n",
      "           0       0.81      0.78      0.79        99\n",
      "           1       0.63      0.67      0.65        55\n",
      "\n",
      "    accuracy                           0.74       154\n",
      "   macro avg       0.72      0.73      0.72       154\n",
      "weighted avg       0.75      0.74      0.74       154\n",
      "\n",
      "\n",
      "Pipeline: SGD\n",
      "Accuracy Score: 0.7272727272727273\n",
      "Classification Report:\n",
      "              precision    recall  f1-score   support\n",
      "\n",
      "           0       0.81      0.75      0.78        99\n",
      "           1       0.60      0.69      0.64        55\n",
      "\n",
      "    accuracy                           0.73       154\n",
      "   macro avg       0.71      0.72      0.71       154\n",
      "weighted avg       0.74      0.73      0.73       154\n",
      "\n",
      "\n"
     ]
    }
   ],
   "source": [
    "for i, pipe in enumerate(pipelines):\n",
    "    # Fit the pipeline on the training data\n",
    "    pipe.fit(Xtrain, ytrain)\n",
    "    # Evaluate the pipeline on the test data\n",
    "    accuracy_score = pipe.score(Xtest, ytest)\n",
    "    y_pred = pipe.predict(Xtest)\n",
    "    \n",
    "    # Generate classification report\n",
    "    report = classification_report(ytest, y_pred)\n",
    "    \n",
    "    # Print the classification report & accuracy_score\n",
    "    print(f\"Pipeline: {pipe_dict[i]}\")\n",
    "    print(\"Accuracy Score:\", accuracy_score)\n",
    "    print(\"Classification Report:\")\n",
    "    print(report)\n",
    "    print()"
   ]
  },
  {
   "cell_type": "markdown",
   "id": "21cf88d0-b09c-4073-a706-dac6222e3019",
   "metadata": {},
   "source": [
    "#### Conclusion : \n",
    "\n",
    "**While HGB has the highest overall accuracy, the Random Forest offers a few advantages:**\n",
    "\n",
    "+ Higher F1-score for both classes: \n",
    "\n",
    "```The F1-score considers both precision and recall, providing a more balanced view of the model's performance. The RF has a higher F1-score for both classes, indicating better overall classification across both positive and negative examples.```\n",
    "    \n",
    "+ Less bias: \n",
    "    \n",
    "```The RF seems to have less bias towards the majority class compared to HGB and DT, which might be important depending on the specific cost of misclassification in your application.```\n"
   ]
  },
  {
   "cell_type": "markdown",
   "id": "b25e085d-ceb1-43fb-bd53-61196b671870",
   "metadata": {},
   "source": [
    "### Training Model Using RandomForest Classifier"
   ]
  },
  {
   "cell_type": "code",
   "execution_count": 97,
   "id": "50df8df2-d21c-4b11-8e40-872be040e220",
   "metadata": {},
   "outputs": [
    {
     "name": "stdout",
     "output_type": "stream",
     "text": [
      "Classification Report:\n",
      "              precision    recall  f1-score   support\n",
      "\n",
      "           0       0.81      0.92      0.86        99\n",
      "           1       0.81      0.62      0.70        55\n",
      "\n",
      "    accuracy                           0.81       154\n",
      "   macro avg       0.81      0.77      0.78       154\n",
      "weighted avg       0.81      0.81      0.80       154\n",
      "\n"
     ]
    }
   ],
   "source": [
    "sc=StandardScaler()\n",
    "Xtrain_scaled = sc.fit_transform(Xtrain)\n",
    "model = RandomForestClassifier(n_estimators=100, max_depth=3)\n",
    "model.fit(Xtrain_scaled, ytrain)\n",
    "Xtest_scaled = sc.transform(Xtest)\n",
    "ypred = model.predict(Xtest_scaled)\n",
    "report = classification_report(ytest, ypred)\n",
    "print(\"Classification Report:\")\n",
    "print(report)"
   ]
  },
  {
   "cell_type": "markdown",
   "id": "27785619-dbfa-4ce8-abb5-2bb822397217",
   "metadata": {},
   "source": [
    "The classification report shows the performance of a machine learning model on a binary classification task. Here's a breakdown of the metrics and some insights you can glean from them:\n",
    "\n",
    "**Classes:**\n",
    "\n",
    "The report assumes two classes, labeled 0 and 1.\n",
    "\n",
    "**Metrics:**\n",
    "\n",
    "* **Precision:**  This metric tells you the proportion of predicted positive cases (class 1) that were actually positive. A precision of 0.81 for class 1 means that out of all the data points the model predicted as class 1, 81% were actually class 1.\n",
    "* **Recall:**  This metric tells you the proportion of actual positive cases (class 1) that were correctly identified by the model. Here, the recall for class 1 is 0.62, indicating that the model missed 38% (100 - 62) of the actual class 1 data points.\n",
    "* **F1-Score:**  This metric is a harmonic mean of precision and recall, providing a balanced view of the model's performance for both classes. A score of 0.70 for class 1 suggests a trade-off between precision and recall.\n",
    "* **Support:**  This represents the total number of data points in each class (99 for class 0 and 55 for class 1).\n",
    "\n",
    "**Overall Accuracy:**\n",
    "\n",
    "The overall accuracy of the model is 0.81, which means it correctly classified 81% of the data points.\n",
    "\n",
    "**Class Imbalance:**\n",
    "\n",
    "The number of data points in class 1 (55) is smaller compared to class 0 (99). This imbalance  can affect the interpretation of the metrics, particularly for the minority class (class 1).\n",
    "\n",
    "**Interpretation:**\n",
    "\n",
    "This model seems to perform well for identifying negative cases (class 0) with a high precision (0.81) and recall (0.92). However, for class 1, the model struggles a bit with a lower recall (0.62), meaning it misses a significant portion of the actual positive cases. This could be due to the class imbalance, where the model might prioritize classifying data points as the majority class (class 0) to achieve higher overall accuracy.\n",
    "\n",
    "**Possible Actions:**\n",
    "\n",
    "Depending on the specific task and the cost of misclassification, you might consider:\n",
    "\n",
    "* **Cost-Sensitive Learning:**  If misclassifying class 1 is more critical, you could explore cost-sensitive learning techniques that penalize the model more for mistakes on class 1. Techniques like assigning higher weights to class 1 during training can be explored.\n",
    "* **Data Augmentation:**  If possible, consider techniques to increase the number of data points in the minority class (class 1) to balance the dataset. This can help the model learn the characteristics of class 1 more effectively.\n",
    "* **Model Selection:**  Experiment with different machine learning models. Some models, like Support Vector Machines (SVM) or XGBoost, might handle class imbalance better depending on your dataset.\n",
    "\n",
    "**Overall:**\n",
    "\n",
    "This report suggests the model performs decently but could be improved, especially for identifying class 1 data points. Consider the cost of misclassification in your specific application and explore techniques to address class imbalance if necessary. "
   ]
  },
  {
   "cell_type": "markdown",
   "id": "b1278879-27be-458d-8f44-c8124751248e",
   "metadata": {},
   "source": [
    "### Saving Model on Whole Dataset"
   ]
  },
  {
   "cell_type": "code",
   "execution_count": 101,
   "id": "4cf18bf1-9b14-477d-99b0-99504bf0844f",
   "metadata": {},
   "outputs": [
    {
     "name": "stdout",
     "output_type": "stream",
     "text": [
      "Classification Report:\n",
      "              precision    recall  f1-score   support\n",
      "\n",
      "           0       0.81      0.92      0.86        99\n",
      "           1       0.81      0.62      0.70        55\n",
      "\n",
      "    accuracy                           0.81       154\n",
      "   macro avg       0.81      0.77      0.78       154\n",
      "weighted avg       0.81      0.81      0.80       154\n",
      "\n"
     ]
    },
    {
     "data": {
      "text/plain": [
       "['Diabetese_Prediction.joblib']"
      ]
     },
     "execution_count": 101,
     "metadata": {},
     "output_type": "execute_result"
    }
   ],
   "source": [
    "X = dff.drop(columns='Outcome', axis=1)\n",
    "y = dff['Outcome'] # Target\n",
    "X_scaled = sc.fit_transform(X)\n",
    "model.fit(X_scaled,y)\n",
    "Xtest_scaled = sc.transform(Xtest)\n",
    "ypred = model.predict(Xtest_scaled)\n",
    "report = classification_report(ytest, ypred)\n",
    "print(\"Classification Report:\")\n",
    "print(report)\n",
    "joblib.dump(model,\"Diabetese_Prediction.joblib\")"
   ]
  },
  {
   "cell_type": "markdown",
   "id": "49cc1b6f-405a-4fdb-aa2c-a5ba4cf7fad9",
   "metadata": {},
   "source": [
    "### Test Case"
   ]
  },
  {
   "cell_type": "code",
   "execution_count": 102,
   "id": "db266a9d-b3b0-4a07-b7ad-7d2d752700ca",
   "metadata": {},
   "outputs": [
    {
     "name": "stdout",
     "output_type": "stream",
     "text": [
      "non-diabetic\n"
     ]
    }
   ],
   "source": [
    "data = pd.DataFrame({\n",
    "    'Pregnancies':1,\n",
    "    'Glucose':89.0,\n",
    "    'BloodPressure':66.0,\n",
    "    'SkinThickness':23.0,\n",
    "    'Insulin':29.0,\n",
    "    'BMI':26.6,\n",
    "    'DiabetesPedigreeFunction':0.167,\n",
    "    'Age':21,    \n",
    "},index=[0])\n",
    "\n",
    "p = model.predict(scaler.fit_transform(data.to_numpy()))\n",
    "\n",
    "if p[0] == 0:\n",
    "    print('non-diabetic')\n",
    "else:\n",
    "    print('diabetic')"
   ]
  },
  {
   "cell_type": "code",
   "execution_count": 103,
   "id": "a2c02f39-a752-4afe-8d07-96fb545e5d25",
   "metadata": {},
   "outputs": [
    {
     "name": "stdout",
     "output_type": "stream",
     "text": [
      "diabetic\n"
     ]
    }
   ],
   "source": [
    "new_data = pd.DataFrame({\n",
    "    'Pregnancies':6,\n",
    "    'Glucose':148.0,\n",
    "    'BloodPressure':72.0,\n",
    "    'SkinThickness':35.0,\n",
    "    'Insulin':79.799479,\n",
    "    'BMI':33.6,\n",
    "    'DiabetesPedigreeFunction':0.627,\n",
    "    'Age':50,    \n",
    "},index=[0])\n",
    "\n",
    "p = p = model.predict(scaler.transform(new_data.to_numpy()))\n",
    "\n",
    "if p[0] == 0:\n",
    "    print('non-diabetic')\n",
    "else:\n",
    "    print('diabetic')\n"
   ]
  },
  {
   "cell_type": "markdown",
   "id": "352ca5d4-a55a-46f3-8f78-9b8ce767bcca",
   "metadata": {},
   "source": [
    "## GUI "
   ]
  },
  {
   "cell_type": "markdown",
   "id": "d3bcb98c-2dbe-40f8-9f9b-fd5a507eade1",
   "metadata": {},
   "source": [
    "#### For strimlit"
   ]
  },
  {
   "cell_type": "code",
   "execution_count": null,
   "id": "fa32710d-f555-4ce9-8171-fd7ab9ecc092",
   "metadata": {},
   "outputs": [],
   "source": [
    "import csv\n",
    "import numpy as np\n",
    "import joblib\n",
    "from sklearn.preprocessing import StandardScaler\n",
    "import streamlit as st\n",
    "\n",
    "# Ignore all warnings\n",
    "import warnings\n",
    "warnings.filterwarnings(\"ignore\")\n",
    "\n",
    "# Load the trained model\n",
    "model = joblib.load(\"Diabetese_Prediction.joblib\")\n",
    "scaler = StandardScaler()\n",
    "\n",
    "# Define columns\n",
    "columns = ['Pregnancies', 'Glucose', 'BloodPressure', 'SkinThickness', 'Insulin', 'BMI', 'DiabetesPedigreeFunction', 'Age', 'Predicted_Outcome']\n",
    "\n",
    "def write_to_csv(input_data, prediction):\n",
    "    try:\n",
    "        with open('Diabetes_Predictions.csv', mode='a', newline='') as file:\n",
    "            writer = csv.writer(file)\n",
    "            if file.tell() == 0:\n",
    "                writer.writerow(columns)\n",
    "            writer.writerow(input_data + [prediction])\n",
    "    except Exception as e:\n",
    "        st.error(f\"Error writing to CSV: {str(e)}\")\n",
    "\n",
    "def predict_diabetes(input_data):\n",
    "    try:\n",
    "        # Transform input data using the scaler\n",
    "        input_data_scaled = scaler.fit_transform(np.array(input_data).reshape(1, -1))#fit_transform must not be used technically but it gives errot when using only transform \n",
    "        \n",
    "        # Predict using the trained model\n",
    "        prediction = model.predict(input_data_scaled)\n",
    "        \n",
    "        # Return prediction result\n",
    "        return prediction[0],\"Has Diabetes\" if prediction[0] == 1 else \"Does Not Have Diabetes\"\n",
    "    except Exception as e:\n",
    "        st.error(f\"Error predicting: {str(e)}\")\n",
    "\n",
    "def diabetes_prediction_page():\n",
    "    st.title(\"Diabetes Prediction\")\n",
    "\n",
    "    # Input fields\n",
    "    pregnancies = st.number_input(\"Pregnancies\", min_value=0, step=1)\n",
    "    glucose = st.number_input(\"Glucose\", min_value=0)\n",
    "    blood_pressure = st.number_input(\"Blood Pressure\", min_value=0)\n",
    "    skin_thickness = st.number_input(\"Skin Thickness\", min_value=0)\n",
    "    insulin = st.number_input(\"Insulin\", min_value=0)\n",
    "    bmi = st.number_input(\"BMI\", min_value=0.0)\n",
    "    diabetes_pedigree_function = st.number_input(\"Diabetes Pedigree Function\", min_value=0.0)\n",
    "    age = st.number_input(\"Age\", min_value=0, step=1)\n",
    "\n",
    "    # Prediction button\n",
    "    if st.button(\"Predict\"):\n",
    "        try:\n",
    "            # Predict diabetes\n",
    "            input_data = [pregnancies, glucose, blood_pressure, skin_thickness, insulin, bmi, diabetes_pedigree_function, age]\n",
    "            prediction, result = predict_diabetes(input_data)\n",
    "            \n",
    "            # Write prediction to CSV\n",
    "            write_to_csv(input_data, prediction)\n",
    "\n",
    "            st.success(f\"Prediction: {result}\")\n",
    "        except Exception as e:\n",
    "            st.error(f\"Error: {str(e)}\")\n",
    "\n",
    "def main():\n",
    "    st.set_page_config(page_title=\"Diabetes Prediction App\", layout=\"wide\")\n",
    "\n",
    "    # Render the Diabetes Prediction page\n",
    "    diabetes_prediction_page()\n",
    "\n",
    "if __name__ == \"__main__\":\n",
    "    main()\n"
   ]
  },
  {
   "cell_type": "markdown",
   "id": "5ba19a37-82ca-416f-b48f-30482d9cb069",
   "metadata": {},
   "source": [
    "#### For Eel"
   ]
  },
  {
   "cell_type": "markdown",
   "id": "6bb1c251-4523-4df7-8195-68839b869e34",
   "metadata": {},
   "source": [
    "### app.py"
   ]
  },
  {
   "cell_type": "code",
   "execution_count": null,
   "id": "0c1fcb68-f3c8-471d-9c52-d95e860693ca",
   "metadata": {},
   "outputs": [],
   "source": [
    "# Import necessary libraries\n",
    "import csv\n",
    "import numpy as np\n",
    "import joblib\n",
    "from sklearn.preprocessing import StandardScaler\n",
    "from sklearn.ensemble import GradientBoostingClassifier\n",
    "import eel\n",
    "# Ignore all warnings\n",
    "import warnings\n",
    "warnings.filterwarnings(\"ignore\")\n",
    "\n",
    "# Initialize Eel\n",
    "eel.init('web')  # 'web' is the folder name where your HTML and JavaScript files are located\n",
    "\n",
    "# Load the trained model\n",
    "model = joblib.load(\"Diabetese_Prediction.joblib\")\n",
    "scaler = StandardScaler()\n",
    "\n",
    "# Define columns\n",
    "columns = ['Pregnancies', 'Glucose', 'BloodPressure', 'SkinThickness', 'Insulin', 'BMI', 'DiabetesPedigreeFunction', 'Age', 'Predicted_Outcome']\n",
    "\n",
    "def write_to_csv(input_data, prediction):\n",
    "    try:\n",
    "        with open('Diabetes_Predictions.csv', mode='a', newline='') as file:\n",
    "            writer = csv.writer(file)\n",
    "            if file.tell() == 0:\n",
    "                writer.writerow(columns)\n",
    "            writer.writerow(input_data + [prediction])\n",
    "    except Exception as e:\n",
    "        print(f\"Error writing to CSV: {str(e)}\")\n",
    "\n",
    "def predict_diabetes(input_data):\n",
    "    try:\n",
    "        # Transform input data using the scaler\n",
    "        input_data_scaled = scaler.fit_transform(np.array(input_data).reshape(1, -1))\n",
    "        \n",
    "        # Predict using the trained model\n",
    "        prediction = model.predict(input_data_scaled)\n",
    "        \n",
    "        # Return prediction result\n",
    "        return prediction[0],\"Has Diabetes\" if prediction == 1 else \"Does Not Have Diabetes\"\n",
    "    except Exception as e:\n",
    "        return \"Error predicting\"\n",
    "\n",
    "@eel.expose\n",
    "def Diabetes_Prediction(Pregnancies, Glucose, BloodPressure, SkinThickness, Insulin, BMI, DiabetesPedigreeFunction, Age):\n",
    "    try:\n",
    "        # Convert input data to suitable format\n",
    "        Pregnancies = int(Pregnancies)\n",
    "        Age = int(Age)\n",
    "        input_data = [Pregnancies, float(Glucose), float(BloodPressure), float(SkinThickness), float(Insulin), float(BMI), float(DiabetesPedigreeFunction), Age]\n",
    "        \n",
    "        # Predict diabetes\n",
    "        prediction,result = predict_diabetes(input_data)\n",
    "        \n",
    "        # Write prediction to CSV\n",
    "        write_to_csv(input_data, prediction)\n",
    "        \n",
    "        # Return prediction result\n",
    "        return result\n",
    "    except Exception as e:\n",
    "        return f\"Error processing input: {str(e)}\"\n",
    "\n",
    "# Start the Eel application\n",
    "try:\n",
    "    eel.start('app.html', size=(800, 600))\n",
    "except Exception as e:\n",
    "    print(f\"Error starting Eel: {e}\")\n"
   ]
  },
  {
   "cell_type": "markdown",
   "id": "dad58d53-818e-4cd4-aba4-5f4577dd6ca6",
   "metadata": {},
   "source": [
    "### ./web/app.html"
   ]
  },
  {
   "cell_type": "code",
   "execution_count": null,
   "id": "07739ad7-e3e8-4bd5-bd2e-941ca5255e84",
   "metadata": {},
   "outputs": [],
   "source": [
    "<!DOCTYPE html>\n",
    "<html lang=\"en\">\n",
    "<head>\n",
    "    <meta charset=\"UTF-8\">\n",
    "    <meta name=\"viewport\" content=\"width=device-width, initial-scale=1.0\">\n",
    "    <title>Diabetes Prediction</title>\n",
    "    <style>\n",
    "        /* Reset default browser styles */\n",
    "        * {\n",
    "            box-sizing: border-box;\n",
    "            margin: 0;\n",
    "            padding: 0;\n",
    "        }\n",
    "\n",
    "        /* Body styles */\n",
    "        body {\n",
    "            font-family: Arial, sans-serif;\n",
    "            margin: 20px;\n",
    "            background-color: #f8f8f8;\n",
    "        }\n",
    "\n",
    "        /* Container styles */\n",
    "        .container {\n",
    "            max-width: 600px;\n",
    "            margin: auto;\n",
    "            padding: 20px;\n",
    "            background-color: #fff;\n",
    "            border-radius: 5px;\n",
    "            box-shadow: 0 2px 5px rgba(0, 0, 0, 0.1);\n",
    "        }\n",
    "\n",
    "        /* Heading styles */\n",
    "        h2 {\n",
    "            margin-bottom: 20px;\n",
    "            color: #333;\n",
    "        }\n",
    "\n",
    "        /* Form styles */\n",
    "        form {\n",
    "            margin-bottom: 20px;\n",
    "        }\n",
    "\n",
    "        label {\n",
    "            font-weight: bold;\n",
    "            margin-bottom: 5px;\n",
    "            color: #555;\n",
    "        }\n",
    "\n",
    "        input[type=\"number\"] {\n",
    "            width: 100%;\n",
    "            padding: 10px;\n",
    "            margin-bottom: 10px;\n",
    "            border: 1px solid #ccc;\n",
    "            border-radius: 3px;\n",
    "            transition: border-color 0.3s ease;\n",
    "        }\n",
    "\n",
    "        input[type=\"number\"]:focus {\n",
    "            border-color: #3399ff;\n",
    "            outline: none;\n",
    "        }\n",
    "\n",
    "        button {\n",
    "            display: block;\n",
    "            width: 100%;\n",
    "            padding: 10px;\n",
    "            background-color: #3399ff;\n",
    "            color: #fff;\n",
    "            border: none;\n",
    "            border-radius: 3px;\n",
    "            cursor: pointer;\n",
    "            transition: background-color 0.3s ease;\n",
    "        }\n",
    "\n",
    "        button:hover {\n",
    "            background-color: #2673c9;\n",
    "        }\n",
    "\n",
    "        /* Result area styles */\n",
    "        #result {\n",
    "            margin-top: 20px;\n",
    "            padding: 10px;\n",
    "            background-color: #f2f2f2;\n",
    "            border-radius: 3px;\n",
    "            color: #333;\n",
    "            font-weight: bold;\n",
    "        }\n",
    "\n",
    "        .hidden {\n",
    "            display: none;\n",
    "        }\n",
    "    </style>\n",
    "</head>\n",
    "<body>\n",
    "    <h2>Diabetes Prediction</h2>\n",
    "    <form id=\"diabetesForm\">\n",
    "        <label for=\"pregnancies\">Pregnancies:</label>\n",
    "        <input type=\"number\" id=\"pregnancies\" step=\"1\" min=\"1\" placeholder=\"Enter number of pregnancies\" oninput=\"validateInput(this)\" required><br>\n",
    "\n",
    "        <label for=\"glucose\">Glucose:</label>\n",
    "        <input type=\"number\" id=\"glucose\" step=\"any\" min=\"1\" placeholder=\"Enter glucose level\" required><br>\n",
    "\n",
    "        <label for=\"bloodPressure\">Blood Pressure:</label>\n",
    "        <input type=\"number\" id=\"bloodPressure\" step=\"any\" min=\"1\" placeholder=\"Enter blood pressure\" required><br>\n",
    "\n",
    "        <label for=\"skinThickness\">Skin Thickness:</label>\n",
    "        <input type=\"number\" id=\"skinThickness\" step=\"any\" min=\"1\" placeholder=\"Enter skin thickness\" required><br>\n",
    "\n",
    "        <label for=\"insulin\">Insulin:</label>\n",
    "        <input type=\"number\" id=\"insulin\" step=\"any\" min=\"1\" placeholder=\"Enter insulin level\" required><br>\n",
    "\n",
    "        <label for=\"bmiOption\">Select BMI input:</label>\n",
    "        <select id=\"bmiOption\" onchange=\"toggleBMIInput()\">\n",
    "\t\t\t<option Disabled selected>Choose</option>\n",
    "            <option value=\"direct\">BMI</option>\n",
    "            <option value=\"heightWeight\">Height and Weight</option>\n",
    "        </select><br>\n",
    "\n",
    "        <div id=\"bmiFields\" class=\"hidden\">\n",
    "            <label for=\"bmi\">BMI:</label>\n",
    "            <input type=\"number\" id=\"bmi\" step=\"any\" min=\"1\" placeholder=\"Enter BMI\" required><br>\n",
    "        </div>\n",
    "\n",
    "        <div id=\"heightWeightFields\" class=\"hidden\">\n",
    "            <label for=\"height\">Height (cm):</label>\n",
    "            <input type=\"number\" id=\"height\" step=\"any\" min=\"1\" placeholder=\"Enter height in cm\" required><br>\n",
    "\n",
    "            <label for=\"weight\">Weight (kg):</label>\n",
    "            <input type=\"number\" id=\"weight\" step=\"any\" min=\"1\" placeholder=\"Enter weight in kg\" required><br>\n",
    "        </div>\n",
    "\n",
    "        <label for=\"diabetesPedigreeFunction\">Diabetes Pedigree Function:</label>\n",
    "        <input type=\"number\" id=\"diabetesPedigreeFunction\" step=\"any\" min=\"1\" placeholder=\"Enter diabetes pedigree function\" required><br>\n",
    "\n",
    "        <label for=\"age\">Age:</label>\n",
    "        <input type=\"number\" id=\"age\" min=\"1\" placeholder=\"Enter age\" oninput=\"validateInput(this)\" required><br>\n",
    "\n",
    "        <button type=\"button\" onclick=\"predictDiabetes()\">Predict Diabetes</button>\n",
    "    </form>\n",
    "\n",
    "    <div id=\"result\"></div>\n",
    "\n",
    "    <!-- Include the Eel JavaScript library -->\n",
    "    <script src=\"/eel.js\"></script>\n",
    "\n",
    "    <script>\n",
    "        function predictDiabetes() {\n",
    "            const pregnancies = document.getElementById('pregnancies').value;\n",
    "            const glucose = document.getElementById('glucose').value;\n",
    "            const bloodPressure = document.getElementById('bloodPressure').value;\n",
    "            const skinThickness = document.getElementById('skinThickness').value;\n",
    "            const insulin = document.getElementById('insulin').value;\n",
    "            const diabetesPedigreeFunction = document.getElementById('diabetesPedigreeFunction').value;\n",
    "            const age = document.getElementById('age').value;\n",
    "\n",
    "            let bmi;\n",
    "            if (document.getElementById('bmiFields').classList.contains('hidden')) {\n",
    "                const height = document.getElementById('height').value;\n",
    "                const weight = document.getElementById('weight').value;\n",
    "\n",
    "                if (!height || !weight) {\n",
    "                    alert('Please enter both height and weight.');\n",
    "                    return;\n",
    "                }\n",
    "\n",
    "                bmi = calculateBMI(weight, height);\n",
    "            } else {\n",
    "                bmi = document.getElementById('bmi').value;\n",
    "            }\n",
    "\n",
    "            // Send the input data to the Python function using Eel\n",
    "            eel.Diabetes_Prediction(pregnancies, glucose, bloodPressure, skinThickness, insulin, bmi, diabetesPedigreeFunction, age)(\n",
    "                function(response) {\n",
    "                    document.getElementById('result').innerText = response;\n",
    "                });\n",
    "        }\n",
    "\n",
    "        function calculateBMI(weight, height) {\n",
    "            const heightInMeters = height / 100;\n",
    "            const bmi = weight / (heightInMeters * heightInMeters);\n",
    "            return bmi.toFixed(2);\n",
    "        }\n",
    "\n",
    "        function toggleBMIInput() {\n",
    "            const bmiOption = document.getElementById('bmiOption').value;\n",
    "            const bmiFields = document.getElementById('bmiFields');\n",
    "            const heightWeightFields = document.getElementById('heightWeightFields');\n",
    "\n",
    "            if (bmiOption === 'direct') {\n",
    "                bmiFields.classList.remove('hidden');\n",
    "                heightWeightFields.classList.add('hidden');\n",
    "            } else {\n",
    "                bmiFields.classList.add('hidden');\n",
    "                heightWeightFields.classList.remove('hidden');\n",
    "            }\n",
    "        }\n",
    "\n",
    "        function validateInput(inputField) {\n",
    "            // Regex pattern to match anything other than digits\n",
    "            const pattern = /[^0-9]/;\n",
    "            // Check if the input field value contains any non-digit character\n",
    "            if (pattern.test(inputField.value)) {\n",
    "                // If it does, remove the non-digit characters\n",
    "                inputField.value = inputField.value.replace(pattern, '');\n",
    "            }\n",
    "        }\n",
    "    </script>\n",
    "</body>\n",
    "</html>\n"
   ]
  },
  {
   "cell_type": "code",
   "execution_count": null,
   "id": "2aaea5ce-ad5d-4567-b94f-0d032491eff0",
   "metadata": {},
   "outputs": [],
   "source": []
  }
 ],
 "metadata": {
  "kernelspec": {
   "display_name": "Python 3 (ipykernel)",
   "language": "python",
   "name": "python3"
  },
  "language_info": {
   "codemirror_mode": {
    "name": "ipython",
    "version": 3
   },
   "file_extension": ".py",
   "mimetype": "text/x-python",
   "name": "python",
   "nbconvert_exporter": "python",
   "pygments_lexer": "ipython3",
   "version": "3.11.8"
  }
 },
 "nbformat": 4,
 "nbformat_minor": 5
}
